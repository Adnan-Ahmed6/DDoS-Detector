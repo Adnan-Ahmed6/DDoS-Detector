{
  "cells": [
    {
      "cell_type": "code",
      "execution_count": null,
      "metadata": {
        "id": "8tfrPzbhpWpr"
      },
      "outputs": [],
      "source": [
        "# module imports\n",
        "import numpy as np\n",
        "import pandas as pd\n",
        "import matplotlib.pyplot as plt\n",
        "import random\n",
        "\n",
        "# model imports\n",
        "from sklearn.ensemble import RandomForestClassifier\n",
        "from sklearn.preprocessing import LabelEncoder\n",
        "from sklearn.model_selection import train_test_split\n",
        "from sklearn.model_selection import cross_val_score\n",
        "from sklearn.metrics import accuracy_score\n",
        "from sklearn.preprocessing import StandardScaler\n",
        "from sklearn.svm import SVC\n",
        "from matplotlib.pyplot import figure"
      ]
    },
    {
      "cell_type": "code",
      "execution_count": null,
      "metadata": {
        "colab": {
          "base_uri": "https://localhost:8080/"
        },
        "id": "mZZsFMtqpWpw",
        "outputId": "ab6c5f19-7711-406d-805b-5c575b71b0b4"
      },
      "outputs": [
        {
          "output_type": "execute_result",
          "data": {
            "text/plain": [
              "Index(['dt', 'switch', 'src', 'dst', 'pktcount', 'bytecount', 'dur',\n",
              "       'dur_nsec', 'tot_dur', 'flows', 'packetins', 'pktperflow',\n",
              "       'byteperflow', 'pktrate', 'Pairflow', 'Protocol', 'port_no', 'tx_bytes',\n",
              "       'rx_bytes', 'tx_kbps', 'rx_kbps', 'tot_kbps', 'label'],\n",
              "      dtype='object')"
            ]
          },
          "metadata": {},
          "execution_count": 2
        }
      ],
      "source": [
        "df = pd.read_csv('dataset_sdn.csv')\n",
        "df.columns\n"
      ]
    },
    {
      "cell_type": "code",
      "execution_count": null,
      "metadata": {
        "colab": {
          "base_uri": "https://localhost:8080/",
          "height": 255
        },
        "id": "quG2qKcHpWpx",
        "outputId": "6dd18be8-b4c2-40ac-c8ed-d1eb2a17e9c1"
      },
      "outputs": [
        {
          "output_type": "execute_result",
          "data": {
            "text/plain": [
              "      dt  switch       src       dst  pktcount  bytecount  dur   dur_nsec  \\\n",
              "0  11425       1  10.0.0.1  10.0.0.8     45304   48294064  100  716000000   \n",
              "1  11605       1  10.0.0.1  10.0.0.8    126395  134737070  280  734000000   \n",
              "2  11425       1  10.0.0.2  10.0.0.8     90333   96294978  200  744000000   \n",
              "3  11425       1  10.0.0.2  10.0.0.8     90333   96294978  200  744000000   \n",
              "4  11425       1  10.0.0.2  10.0.0.8     90333   96294978  200  744000000   \n",
              "\n",
              "        tot_dur  flows  ...  pktrate  Pairflow  Protocol  port_no   tx_bytes  \\\n",
              "0  1.010000e+11      3  ...      451         0       UDP        3  143928631   \n",
              "1  2.810000e+11      2  ...      451         0       UDP        4       3842   \n",
              "2  2.010000e+11      3  ...      451         0       UDP        1       3795   \n",
              "3  2.010000e+11      3  ...      451         0       UDP        2       3688   \n",
              "4  2.010000e+11      3  ...      451         0       UDP        3       3413   \n",
              "\n",
              "  rx_bytes  tx_kbps  rx_kbps  tot_kbps  label  \n",
              "0     3917        0      0.0       0.0      0  \n",
              "1     3520        0      0.0       0.0      0  \n",
              "2     1242        0      0.0       0.0      0  \n",
              "3     1492        0      0.0       0.0      0  \n",
              "4     3665        0      0.0       0.0      0  \n",
              "\n",
              "[5 rows x 23 columns]"
            ],
            "text/html": [
              "\n",
              "  <div id=\"df-4283ac79-f527-41db-afcd-62d12ad38083\" class=\"colab-df-container\">\n",
              "    <div>\n",
              "<style scoped>\n",
              "    .dataframe tbody tr th:only-of-type {\n",
              "        vertical-align: middle;\n",
              "    }\n",
              "\n",
              "    .dataframe tbody tr th {\n",
              "        vertical-align: top;\n",
              "    }\n",
              "\n",
              "    .dataframe thead th {\n",
              "        text-align: right;\n",
              "    }\n",
              "</style>\n",
              "<table border=\"1\" class=\"dataframe\">\n",
              "  <thead>\n",
              "    <tr style=\"text-align: right;\">\n",
              "      <th></th>\n",
              "      <th>dt</th>\n",
              "      <th>switch</th>\n",
              "      <th>src</th>\n",
              "      <th>dst</th>\n",
              "      <th>pktcount</th>\n",
              "      <th>bytecount</th>\n",
              "      <th>dur</th>\n",
              "      <th>dur_nsec</th>\n",
              "      <th>tot_dur</th>\n",
              "      <th>flows</th>\n",
              "      <th>...</th>\n",
              "      <th>pktrate</th>\n",
              "      <th>Pairflow</th>\n",
              "      <th>Protocol</th>\n",
              "      <th>port_no</th>\n",
              "      <th>tx_bytes</th>\n",
              "      <th>rx_bytes</th>\n",
              "      <th>tx_kbps</th>\n",
              "      <th>rx_kbps</th>\n",
              "      <th>tot_kbps</th>\n",
              "      <th>label</th>\n",
              "    </tr>\n",
              "  </thead>\n",
              "  <tbody>\n",
              "    <tr>\n",
              "      <th>0</th>\n",
              "      <td>11425</td>\n",
              "      <td>1</td>\n",
              "      <td>10.0.0.1</td>\n",
              "      <td>10.0.0.8</td>\n",
              "      <td>45304</td>\n",
              "      <td>48294064</td>\n",
              "      <td>100</td>\n",
              "      <td>716000000</td>\n",
              "      <td>1.010000e+11</td>\n",
              "      <td>3</td>\n",
              "      <td>...</td>\n",
              "      <td>451</td>\n",
              "      <td>0</td>\n",
              "      <td>UDP</td>\n",
              "      <td>3</td>\n",
              "      <td>143928631</td>\n",
              "      <td>3917</td>\n",
              "      <td>0</td>\n",
              "      <td>0.0</td>\n",
              "      <td>0.0</td>\n",
              "      <td>0</td>\n",
              "    </tr>\n",
              "    <tr>\n",
              "      <th>1</th>\n",
              "      <td>11605</td>\n",
              "      <td>1</td>\n",
              "      <td>10.0.0.1</td>\n",
              "      <td>10.0.0.8</td>\n",
              "      <td>126395</td>\n",
              "      <td>134737070</td>\n",
              "      <td>280</td>\n",
              "      <td>734000000</td>\n",
              "      <td>2.810000e+11</td>\n",
              "      <td>2</td>\n",
              "      <td>...</td>\n",
              "      <td>451</td>\n",
              "      <td>0</td>\n",
              "      <td>UDP</td>\n",
              "      <td>4</td>\n",
              "      <td>3842</td>\n",
              "      <td>3520</td>\n",
              "      <td>0</td>\n",
              "      <td>0.0</td>\n",
              "      <td>0.0</td>\n",
              "      <td>0</td>\n",
              "    </tr>\n",
              "    <tr>\n",
              "      <th>2</th>\n",
              "      <td>11425</td>\n",
              "      <td>1</td>\n",
              "      <td>10.0.0.2</td>\n",
              "      <td>10.0.0.8</td>\n",
              "      <td>90333</td>\n",
              "      <td>96294978</td>\n",
              "      <td>200</td>\n",
              "      <td>744000000</td>\n",
              "      <td>2.010000e+11</td>\n",
              "      <td>3</td>\n",
              "      <td>...</td>\n",
              "      <td>451</td>\n",
              "      <td>0</td>\n",
              "      <td>UDP</td>\n",
              "      <td>1</td>\n",
              "      <td>3795</td>\n",
              "      <td>1242</td>\n",
              "      <td>0</td>\n",
              "      <td>0.0</td>\n",
              "      <td>0.0</td>\n",
              "      <td>0</td>\n",
              "    </tr>\n",
              "    <tr>\n",
              "      <th>3</th>\n",
              "      <td>11425</td>\n",
              "      <td>1</td>\n",
              "      <td>10.0.0.2</td>\n",
              "      <td>10.0.0.8</td>\n",
              "      <td>90333</td>\n",
              "      <td>96294978</td>\n",
              "      <td>200</td>\n",
              "      <td>744000000</td>\n",
              "      <td>2.010000e+11</td>\n",
              "      <td>3</td>\n",
              "      <td>...</td>\n",
              "      <td>451</td>\n",
              "      <td>0</td>\n",
              "      <td>UDP</td>\n",
              "      <td>2</td>\n",
              "      <td>3688</td>\n",
              "      <td>1492</td>\n",
              "      <td>0</td>\n",
              "      <td>0.0</td>\n",
              "      <td>0.0</td>\n",
              "      <td>0</td>\n",
              "    </tr>\n",
              "    <tr>\n",
              "      <th>4</th>\n",
              "      <td>11425</td>\n",
              "      <td>1</td>\n",
              "      <td>10.0.0.2</td>\n",
              "      <td>10.0.0.8</td>\n",
              "      <td>90333</td>\n",
              "      <td>96294978</td>\n",
              "      <td>200</td>\n",
              "      <td>744000000</td>\n",
              "      <td>2.010000e+11</td>\n",
              "      <td>3</td>\n",
              "      <td>...</td>\n",
              "      <td>451</td>\n",
              "      <td>0</td>\n",
              "      <td>UDP</td>\n",
              "      <td>3</td>\n",
              "      <td>3413</td>\n",
              "      <td>3665</td>\n",
              "      <td>0</td>\n",
              "      <td>0.0</td>\n",
              "      <td>0.0</td>\n",
              "      <td>0</td>\n",
              "    </tr>\n",
              "  </tbody>\n",
              "</table>\n",
              "<p>5 rows × 23 columns</p>\n",
              "</div>\n",
              "    <div class=\"colab-df-buttons\">\n",
              "\n",
              "  <div class=\"colab-df-container\">\n",
              "    <button class=\"colab-df-convert\" onclick=\"convertToInteractive('df-4283ac79-f527-41db-afcd-62d12ad38083')\"\n",
              "            title=\"Convert this dataframe to an interactive table.\"\n",
              "            style=\"display:none;\">\n",
              "\n",
              "  <svg xmlns=\"http://www.w3.org/2000/svg\" height=\"24px\" viewBox=\"0 -960 960 960\">\n",
              "    <path d=\"M120-120v-720h720v720H120Zm60-500h600v-160H180v160Zm220 220h160v-160H400v160Zm0 220h160v-160H400v160ZM180-400h160v-160H180v160Zm440 0h160v-160H620v160ZM180-180h160v-160H180v160Zm440 0h160v-160H620v160Z\"/>\n",
              "  </svg>\n",
              "    </button>\n",
              "\n",
              "  <style>\n",
              "    .colab-df-container {\n",
              "      display:flex;\n",
              "      gap: 12px;\n",
              "    }\n",
              "\n",
              "    .colab-df-convert {\n",
              "      background-color: #E8F0FE;\n",
              "      border: none;\n",
              "      border-radius: 50%;\n",
              "      cursor: pointer;\n",
              "      display: none;\n",
              "      fill: #1967D2;\n",
              "      height: 32px;\n",
              "      padding: 0 0 0 0;\n",
              "      width: 32px;\n",
              "    }\n",
              "\n",
              "    .colab-df-convert:hover {\n",
              "      background-color: #E2EBFA;\n",
              "      box-shadow: 0px 1px 2px rgba(60, 64, 67, 0.3), 0px 1px 3px 1px rgba(60, 64, 67, 0.15);\n",
              "      fill: #174EA6;\n",
              "    }\n",
              "\n",
              "    .colab-df-buttons div {\n",
              "      margin-bottom: 4px;\n",
              "    }\n",
              "\n",
              "    [theme=dark] .colab-df-convert {\n",
              "      background-color: #3B4455;\n",
              "      fill: #D2E3FC;\n",
              "    }\n",
              "\n",
              "    [theme=dark] .colab-df-convert:hover {\n",
              "      background-color: #434B5C;\n",
              "      box-shadow: 0px 1px 3px 1px rgba(0, 0, 0, 0.15);\n",
              "      filter: drop-shadow(0px 1px 2px rgba(0, 0, 0, 0.3));\n",
              "      fill: #FFFFFF;\n",
              "    }\n",
              "  </style>\n",
              "\n",
              "    <script>\n",
              "      const buttonEl =\n",
              "        document.querySelector('#df-4283ac79-f527-41db-afcd-62d12ad38083 button.colab-df-convert');\n",
              "      buttonEl.style.display =\n",
              "        google.colab.kernel.accessAllowed ? 'block' : 'none';\n",
              "\n",
              "      async function convertToInteractive(key) {\n",
              "        const element = document.querySelector('#df-4283ac79-f527-41db-afcd-62d12ad38083');\n",
              "        const dataTable =\n",
              "          await google.colab.kernel.invokeFunction('convertToInteractive',\n",
              "                                                    [key], {});\n",
              "        if (!dataTable) return;\n",
              "\n",
              "        const docLinkHtml = 'Like what you see? Visit the ' +\n",
              "          '<a target=\"_blank\" href=https://colab.research.google.com/notebooks/data_table.ipynb>data table notebook</a>'\n",
              "          + ' to learn more about interactive tables.';\n",
              "        element.innerHTML = '';\n",
              "        dataTable['output_type'] = 'display_data';\n",
              "        await google.colab.output.renderOutput(dataTable, element);\n",
              "        const docLink = document.createElement('div');\n",
              "        docLink.innerHTML = docLinkHtml;\n",
              "        element.appendChild(docLink);\n",
              "      }\n",
              "    </script>\n",
              "  </div>\n",
              "\n",
              "\n",
              "<div id=\"df-097ed359-2e03-407e-ae0c-17cb8553413f\">\n",
              "  <button class=\"colab-df-quickchart\" onclick=\"quickchart('df-097ed359-2e03-407e-ae0c-17cb8553413f')\"\n",
              "            title=\"Suggest charts.\"\n",
              "            style=\"display:none;\">\n",
              "\n",
              "<svg xmlns=\"http://www.w3.org/2000/svg\" height=\"24px\"viewBox=\"0 0 24 24\"\n",
              "     width=\"24px\">\n",
              "    <g>\n",
              "        <path d=\"M19 3H5c-1.1 0-2 .9-2 2v14c0 1.1.9 2 2 2h14c1.1 0 2-.9 2-2V5c0-1.1-.9-2-2-2zM9 17H7v-7h2v7zm4 0h-2V7h2v10zm4 0h-2v-4h2v4z\"/>\n",
              "    </g>\n",
              "</svg>\n",
              "  </button>\n",
              "\n",
              "<style>\n",
              "  .colab-df-quickchart {\n",
              "      --bg-color: #E8F0FE;\n",
              "      --fill-color: #1967D2;\n",
              "      --hover-bg-color: #E2EBFA;\n",
              "      --hover-fill-color: #174EA6;\n",
              "      --disabled-fill-color: #AAA;\n",
              "      --disabled-bg-color: #DDD;\n",
              "  }\n",
              "\n",
              "  [theme=dark] .colab-df-quickchart {\n",
              "      --bg-color: #3B4455;\n",
              "      --fill-color: #D2E3FC;\n",
              "      --hover-bg-color: #434B5C;\n",
              "      --hover-fill-color: #FFFFFF;\n",
              "      --disabled-bg-color: #3B4455;\n",
              "      --disabled-fill-color: #666;\n",
              "  }\n",
              "\n",
              "  .colab-df-quickchart {\n",
              "    background-color: var(--bg-color);\n",
              "    border: none;\n",
              "    border-radius: 50%;\n",
              "    cursor: pointer;\n",
              "    display: none;\n",
              "    fill: var(--fill-color);\n",
              "    height: 32px;\n",
              "    padding: 0;\n",
              "    width: 32px;\n",
              "  }\n",
              "\n",
              "  .colab-df-quickchart:hover {\n",
              "    background-color: var(--hover-bg-color);\n",
              "    box-shadow: 0 1px 2px rgba(60, 64, 67, 0.3), 0 1px 3px 1px rgba(60, 64, 67, 0.15);\n",
              "    fill: var(--button-hover-fill-color);\n",
              "  }\n",
              "\n",
              "  .colab-df-quickchart-complete:disabled,\n",
              "  .colab-df-quickchart-complete:disabled:hover {\n",
              "    background-color: var(--disabled-bg-color);\n",
              "    fill: var(--disabled-fill-color);\n",
              "    box-shadow: none;\n",
              "  }\n",
              "\n",
              "  .colab-df-spinner {\n",
              "    border: 2px solid var(--fill-color);\n",
              "    border-color: transparent;\n",
              "    border-bottom-color: var(--fill-color);\n",
              "    animation:\n",
              "      spin 1s steps(1) infinite;\n",
              "  }\n",
              "\n",
              "  @keyframes spin {\n",
              "    0% {\n",
              "      border-color: transparent;\n",
              "      border-bottom-color: var(--fill-color);\n",
              "      border-left-color: var(--fill-color);\n",
              "    }\n",
              "    20% {\n",
              "      border-color: transparent;\n",
              "      border-left-color: var(--fill-color);\n",
              "      border-top-color: var(--fill-color);\n",
              "    }\n",
              "    30% {\n",
              "      border-color: transparent;\n",
              "      border-left-color: var(--fill-color);\n",
              "      border-top-color: var(--fill-color);\n",
              "      border-right-color: var(--fill-color);\n",
              "    }\n",
              "    40% {\n",
              "      border-color: transparent;\n",
              "      border-right-color: var(--fill-color);\n",
              "      border-top-color: var(--fill-color);\n",
              "    }\n",
              "    60% {\n",
              "      border-color: transparent;\n",
              "      border-right-color: var(--fill-color);\n",
              "    }\n",
              "    80% {\n",
              "      border-color: transparent;\n",
              "      border-right-color: var(--fill-color);\n",
              "      border-bottom-color: var(--fill-color);\n",
              "    }\n",
              "    90% {\n",
              "      border-color: transparent;\n",
              "      border-bottom-color: var(--fill-color);\n",
              "    }\n",
              "  }\n",
              "</style>\n",
              "\n",
              "  <script>\n",
              "    async function quickchart(key) {\n",
              "      const quickchartButtonEl =\n",
              "        document.querySelector('#' + key + ' button');\n",
              "      quickchartButtonEl.disabled = true;  // To prevent multiple clicks.\n",
              "      quickchartButtonEl.classList.add('colab-df-spinner');\n",
              "      try {\n",
              "        const charts = await google.colab.kernel.invokeFunction(\n",
              "            'suggestCharts', [key], {});\n",
              "      } catch (error) {\n",
              "        console.error('Error during call to suggestCharts:', error);\n",
              "      }\n",
              "      quickchartButtonEl.classList.remove('colab-df-spinner');\n",
              "      quickchartButtonEl.classList.add('colab-df-quickchart-complete');\n",
              "    }\n",
              "    (() => {\n",
              "      let quickchartButtonEl =\n",
              "        document.querySelector('#df-097ed359-2e03-407e-ae0c-17cb8553413f button');\n",
              "      quickchartButtonEl.style.display =\n",
              "        google.colab.kernel.accessAllowed ? 'block' : 'none';\n",
              "    })();\n",
              "  </script>\n",
              "</div>\n",
              "    </div>\n",
              "  </div>\n"
            ]
          },
          "metadata": {},
          "execution_count": 3
        }
      ],
      "source": [
        "df.head()"
      ]
    },
    {
      "cell_type": "markdown",
      "metadata": {
        "id": "PkgHR8eVpWp3"
      },
      "source": [
        "**Feature extraction**\n"
      ]
    },
    {
      "cell_type": "code",
      "execution_count": null,
      "metadata": {
        "colab": {
          "base_uri": "https://localhost:8080/"
        },
        "id": "0_IVJk1PNXgI",
        "outputId": "95035187-a865-4ccc-872a-7c100c3bc9ee"
      },
      "outputs": [
        {
          "output_type": "stream",
          "name": "stdout",
          "text": [
            "Index(['dt', 'switch', 'pktcount', 'bytecount', 'dur', 'dur_nsec', 'tot_dur',\n",
            "       'flows', 'packetins', 'pktperflow', 'byteperflow', 'pktrate',\n",
            "       'Pairflow', 'port_no', 'tx_bytes', 'rx_bytes', 'tx_kbps', 'rx_kbps',\n",
            "       'tot_kbps', 'label'],\n",
            "      dtype='object')\n",
            "Index(['src', 'dst', 'Protocol'], dtype='object')\n"
          ]
        },
        {
          "output_type": "execute_result",
          "data": {
            "text/plain": [
              "Index(['dt', 'switch', 'src', 'dst', 'pktcount', 'bytecount', 'dur',\n",
              "       'dur_nsec', 'tot_dur', 'flows', 'packetins', 'pktperflow',\n",
              "       'byteperflow', 'pktrate', 'Pairflow', 'Protocol', 'port_no', 'tx_bytes',\n",
              "       'rx_bytes', 'tx_kbps', 'rx_kbps', 'tot_kbps', 'label'],\n",
              "      dtype='object')"
            ]
          },
          "metadata": {},
          "execution_count": 4
        }
      ],
      "source": [
        "numeric_df = df.select_dtypes(include=['int64', 'float64'])\n",
        "object_df = df.select_dtypes(include=['object'])\n",
        "numeric_cols = numeric_df.columns\n",
        "object_cols = object_df.columns\n",
        "df = df.dropna(axis = 0, how = 'any')\n",
        "\n",
        "print(numeric_cols)\n",
        "print(object_cols)\n",
        "\n",
        "\n",
        "df.columns\n",
        "\n"
      ]
    },
    {
      "cell_type": "code",
      "execution_count": null,
      "metadata": {
        "id": "gPAq8tABf55S"
      },
      "outputs": [],
      "source": [
        "labels = []"
      ]
    },
    {
      "cell_type": "code",
      "execution_count": null,
      "metadata": {
        "colab": {
          "base_uri": "https://localhost:8080/",
          "height": 547
        },
        "id": "BJSI8hMBRLIi",
        "outputId": "9354c9b4-9f53-41bb-b077-10f2ece72f09"
      },
      "outputs": [
        {
          "output_type": "stream",
          "name": "stderr",
          "text": [
            "<ipython-input-6-22dff66266de>:3: SettingWithCopyWarning: \n",
            "A value is trying to be set on a copy of a slice from a DataFrame.\n",
            "Try using .loc[row_indexer,col_indexer] = value instead\n",
            "\n",
            "See the caveats in the documentation: https://pandas.pydata.org/pandas-docs/stable/user_guide/indexing.html#returning-a-view-versus-a-copy\n",
            "  df['label'] = df.label.astype(float)\n"
          ]
        },
        {
          "output_type": "execute_result",
          "data": {
            "text/plain": [
              "         dt  switch        src       dst  pktcount  bytecount  dur   dur_nsec  \\\n",
              "100   11335       1   10.0.0.1  10.0.0.8      4777    5092282   10  711000000   \n",
              "101   11425       1   10.0.0.2  10.0.0.8     90333   96294978  200  744000000   \n",
              "102   11425       1   10.0.0.2  10.0.0.8     90333   96294978  200  744000000   \n",
              "103   11425       1   10.0.0.2  10.0.0.8     90333   96294978  200  744000000   \n",
              "104   11425       1   10.0.0.2  10.0.0.8     90333   96294978  200  744000000   \n",
              "...     ...     ...        ...       ...       ...        ...  ...        ...   \n",
              "1995  11755       2  10.0.0.10  10.0.0.8    110012  114632504  380  759000000   \n",
              "1996  11755       2  10.0.0.10  10.0.0.8    110012  114632504  380  759000000   \n",
              "1997  11755       2  10.0.0.10  10.0.0.8    110012  114632504  380  759000000   \n",
              "1998  11755       2  10.0.0.10  10.0.0.8    110012  114632504  380  759000000   \n",
              "1999  11755       2  10.0.0.10  10.0.0.8    110012  114632504  380  759000000   \n",
              "\n",
              "           tot_dur  flows  ...  Pairflow  Protocol  port_no  tx_bytes  \\\n",
              "100   1.071100e+10      3  ...         0       UDP        2      3929   \n",
              "101   2.010000e+11      3  ...         0       UDP        1      3775   \n",
              "102   2.010000e+11      3  ...         0       UDP        2      3845   \n",
              "103   2.010000e+11      3  ...         0       UDP        3      3413   \n",
              "104   2.010000e+11      3  ...         0       UDP        1      3775   \n",
              "...            ...    ...  ...       ...       ...      ...       ...   \n",
              "1995  3.810000e+11      2  ...         0       UDP        2      4022   \n",
              "1996  3.810000e+11      2  ...         0       UDP        3      3842   \n",
              "1997  3.810000e+11      2  ...         0       UDP        2      3590   \n",
              "1998  3.810000e+11      2  ...         0       UDP        1      3972   \n",
              "1999  3.810000e+11      2  ...         0       UDP        1      4266   \n",
              "\n",
              "       rx_bytes tx_kbps  rx_kbps  tot_kbps  label  attack_flag  \n",
              "100    53230984       0   3838.0    3838.0    1.0    Malicious  \n",
              "101        1492       0      0.0       0.0    0.0       Benign  \n",
              "102        1402       0      0.0       0.0    0.0       Benign  \n",
              "103        3665       0      0.0       0.0    0.0       Benign  \n",
              "104        1242       0      0.0       0.0    0.0       Benign  \n",
              "...         ...     ...      ...       ...    ...          ...  \n",
              "1995       1472       0      0.0       0.0    1.0    Malicious  \n",
              "1996       3590       0      0.0       0.0    1.0    Malicious  \n",
              "1997       3842       0      0.0       0.0    1.0    Malicious  \n",
              "1998       1312       0      0.0       0.0    1.0    Malicious  \n",
              "1999  143970278       0      0.0       0.0    1.0    Malicious  \n",
              "\n",
              "[1900 rows x 24 columns]"
            ],
            "text/html": [
              "\n",
              "  <div id=\"df-6b5a96b8-b424-4544-882b-9714a7a4230b\" class=\"colab-df-container\">\n",
              "    <div>\n",
              "<style scoped>\n",
              "    .dataframe tbody tr th:only-of-type {\n",
              "        vertical-align: middle;\n",
              "    }\n",
              "\n",
              "    .dataframe tbody tr th {\n",
              "        vertical-align: top;\n",
              "    }\n",
              "\n",
              "    .dataframe thead th {\n",
              "        text-align: right;\n",
              "    }\n",
              "</style>\n",
              "<table border=\"1\" class=\"dataframe\">\n",
              "  <thead>\n",
              "    <tr style=\"text-align: right;\">\n",
              "      <th></th>\n",
              "      <th>dt</th>\n",
              "      <th>switch</th>\n",
              "      <th>src</th>\n",
              "      <th>dst</th>\n",
              "      <th>pktcount</th>\n",
              "      <th>bytecount</th>\n",
              "      <th>dur</th>\n",
              "      <th>dur_nsec</th>\n",
              "      <th>tot_dur</th>\n",
              "      <th>flows</th>\n",
              "      <th>...</th>\n",
              "      <th>Pairflow</th>\n",
              "      <th>Protocol</th>\n",
              "      <th>port_no</th>\n",
              "      <th>tx_bytes</th>\n",
              "      <th>rx_bytes</th>\n",
              "      <th>tx_kbps</th>\n",
              "      <th>rx_kbps</th>\n",
              "      <th>tot_kbps</th>\n",
              "      <th>label</th>\n",
              "      <th>attack_flag</th>\n",
              "    </tr>\n",
              "  </thead>\n",
              "  <tbody>\n",
              "    <tr>\n",
              "      <th>100</th>\n",
              "      <td>11335</td>\n",
              "      <td>1</td>\n",
              "      <td>10.0.0.1</td>\n",
              "      <td>10.0.0.8</td>\n",
              "      <td>4777</td>\n",
              "      <td>5092282</td>\n",
              "      <td>10</td>\n",
              "      <td>711000000</td>\n",
              "      <td>1.071100e+10</td>\n",
              "      <td>3</td>\n",
              "      <td>...</td>\n",
              "      <td>0</td>\n",
              "      <td>UDP</td>\n",
              "      <td>2</td>\n",
              "      <td>3929</td>\n",
              "      <td>53230984</td>\n",
              "      <td>0</td>\n",
              "      <td>3838.0</td>\n",
              "      <td>3838.0</td>\n",
              "      <td>1.0</td>\n",
              "      <td>Malicious</td>\n",
              "    </tr>\n",
              "    <tr>\n",
              "      <th>101</th>\n",
              "      <td>11425</td>\n",
              "      <td>1</td>\n",
              "      <td>10.0.0.2</td>\n",
              "      <td>10.0.0.8</td>\n",
              "      <td>90333</td>\n",
              "      <td>96294978</td>\n",
              "      <td>200</td>\n",
              "      <td>744000000</td>\n",
              "      <td>2.010000e+11</td>\n",
              "      <td>3</td>\n",
              "      <td>...</td>\n",
              "      <td>0</td>\n",
              "      <td>UDP</td>\n",
              "      <td>1</td>\n",
              "      <td>3775</td>\n",
              "      <td>1492</td>\n",
              "      <td>0</td>\n",
              "      <td>0.0</td>\n",
              "      <td>0.0</td>\n",
              "      <td>0.0</td>\n",
              "      <td>Benign</td>\n",
              "    </tr>\n",
              "    <tr>\n",
              "      <th>102</th>\n",
              "      <td>11425</td>\n",
              "      <td>1</td>\n",
              "      <td>10.0.0.2</td>\n",
              "      <td>10.0.0.8</td>\n",
              "      <td>90333</td>\n",
              "      <td>96294978</td>\n",
              "      <td>200</td>\n",
              "      <td>744000000</td>\n",
              "      <td>2.010000e+11</td>\n",
              "      <td>3</td>\n",
              "      <td>...</td>\n",
              "      <td>0</td>\n",
              "      <td>UDP</td>\n",
              "      <td>2</td>\n",
              "      <td>3845</td>\n",
              "      <td>1402</td>\n",
              "      <td>0</td>\n",
              "      <td>0.0</td>\n",
              "      <td>0.0</td>\n",
              "      <td>0.0</td>\n",
              "      <td>Benign</td>\n",
              "    </tr>\n",
              "    <tr>\n",
              "      <th>103</th>\n",
              "      <td>11425</td>\n",
              "      <td>1</td>\n",
              "      <td>10.0.0.2</td>\n",
              "      <td>10.0.0.8</td>\n",
              "      <td>90333</td>\n",
              "      <td>96294978</td>\n",
              "      <td>200</td>\n",
              "      <td>744000000</td>\n",
              "      <td>2.010000e+11</td>\n",
              "      <td>3</td>\n",
              "      <td>...</td>\n",
              "      <td>0</td>\n",
              "      <td>UDP</td>\n",
              "      <td>3</td>\n",
              "      <td>3413</td>\n",
              "      <td>3665</td>\n",
              "      <td>0</td>\n",
              "      <td>0.0</td>\n",
              "      <td>0.0</td>\n",
              "      <td>0.0</td>\n",
              "      <td>Benign</td>\n",
              "    </tr>\n",
              "    <tr>\n",
              "      <th>104</th>\n",
              "      <td>11425</td>\n",
              "      <td>1</td>\n",
              "      <td>10.0.0.2</td>\n",
              "      <td>10.0.0.8</td>\n",
              "      <td>90333</td>\n",
              "      <td>96294978</td>\n",
              "      <td>200</td>\n",
              "      <td>744000000</td>\n",
              "      <td>2.010000e+11</td>\n",
              "      <td>3</td>\n",
              "      <td>...</td>\n",
              "      <td>0</td>\n",
              "      <td>UDP</td>\n",
              "      <td>1</td>\n",
              "      <td>3775</td>\n",
              "      <td>1242</td>\n",
              "      <td>0</td>\n",
              "      <td>0.0</td>\n",
              "      <td>0.0</td>\n",
              "      <td>0.0</td>\n",
              "      <td>Benign</td>\n",
              "    </tr>\n",
              "    <tr>\n",
              "      <th>...</th>\n",
              "      <td>...</td>\n",
              "      <td>...</td>\n",
              "      <td>...</td>\n",
              "      <td>...</td>\n",
              "      <td>...</td>\n",
              "      <td>...</td>\n",
              "      <td>...</td>\n",
              "      <td>...</td>\n",
              "      <td>...</td>\n",
              "      <td>...</td>\n",
              "      <td>...</td>\n",
              "      <td>...</td>\n",
              "      <td>...</td>\n",
              "      <td>...</td>\n",
              "      <td>...</td>\n",
              "      <td>...</td>\n",
              "      <td>...</td>\n",
              "      <td>...</td>\n",
              "      <td>...</td>\n",
              "      <td>...</td>\n",
              "      <td>...</td>\n",
              "    </tr>\n",
              "    <tr>\n",
              "      <th>1995</th>\n",
              "      <td>11755</td>\n",
              "      <td>2</td>\n",
              "      <td>10.0.0.10</td>\n",
              "      <td>10.0.0.8</td>\n",
              "      <td>110012</td>\n",
              "      <td>114632504</td>\n",
              "      <td>380</td>\n",
              "      <td>759000000</td>\n",
              "      <td>3.810000e+11</td>\n",
              "      <td>2</td>\n",
              "      <td>...</td>\n",
              "      <td>0</td>\n",
              "      <td>UDP</td>\n",
              "      <td>2</td>\n",
              "      <td>4022</td>\n",
              "      <td>1472</td>\n",
              "      <td>0</td>\n",
              "      <td>0.0</td>\n",
              "      <td>0.0</td>\n",
              "      <td>1.0</td>\n",
              "      <td>Malicious</td>\n",
              "    </tr>\n",
              "    <tr>\n",
              "      <th>1996</th>\n",
              "      <td>11755</td>\n",
              "      <td>2</td>\n",
              "      <td>10.0.0.10</td>\n",
              "      <td>10.0.0.8</td>\n",
              "      <td>110012</td>\n",
              "      <td>114632504</td>\n",
              "      <td>380</td>\n",
              "      <td>759000000</td>\n",
              "      <td>3.810000e+11</td>\n",
              "      <td>2</td>\n",
              "      <td>...</td>\n",
              "      <td>0</td>\n",
              "      <td>UDP</td>\n",
              "      <td>3</td>\n",
              "      <td>3842</td>\n",
              "      <td>3590</td>\n",
              "      <td>0</td>\n",
              "      <td>0.0</td>\n",
              "      <td>0.0</td>\n",
              "      <td>1.0</td>\n",
              "      <td>Malicious</td>\n",
              "    </tr>\n",
              "    <tr>\n",
              "      <th>1997</th>\n",
              "      <td>11755</td>\n",
              "      <td>2</td>\n",
              "      <td>10.0.0.10</td>\n",
              "      <td>10.0.0.8</td>\n",
              "      <td>110012</td>\n",
              "      <td>114632504</td>\n",
              "      <td>380</td>\n",
              "      <td>759000000</td>\n",
              "      <td>3.810000e+11</td>\n",
              "      <td>2</td>\n",
              "      <td>...</td>\n",
              "      <td>0</td>\n",
              "      <td>UDP</td>\n",
              "      <td>2</td>\n",
              "      <td>3590</td>\n",
              "      <td>3842</td>\n",
              "      <td>0</td>\n",
              "      <td>0.0</td>\n",
              "      <td>0.0</td>\n",
              "      <td>1.0</td>\n",
              "      <td>Malicious</td>\n",
              "    </tr>\n",
              "    <tr>\n",
              "      <th>1998</th>\n",
              "      <td>11755</td>\n",
              "      <td>2</td>\n",
              "      <td>10.0.0.10</td>\n",
              "      <td>10.0.0.8</td>\n",
              "      <td>110012</td>\n",
              "      <td>114632504</td>\n",
              "      <td>380</td>\n",
              "      <td>759000000</td>\n",
              "      <td>3.810000e+11</td>\n",
              "      <td>2</td>\n",
              "      <td>...</td>\n",
              "      <td>0</td>\n",
              "      <td>UDP</td>\n",
              "      <td>1</td>\n",
              "      <td>3972</td>\n",
              "      <td>1312</td>\n",
              "      <td>0</td>\n",
              "      <td>0.0</td>\n",
              "      <td>0.0</td>\n",
              "      <td>1.0</td>\n",
              "      <td>Malicious</td>\n",
              "    </tr>\n",
              "    <tr>\n",
              "      <th>1999</th>\n",
              "      <td>11755</td>\n",
              "      <td>2</td>\n",
              "      <td>10.0.0.10</td>\n",
              "      <td>10.0.0.8</td>\n",
              "      <td>110012</td>\n",
              "      <td>114632504</td>\n",
              "      <td>380</td>\n",
              "      <td>759000000</td>\n",
              "      <td>3.810000e+11</td>\n",
              "      <td>2</td>\n",
              "      <td>...</td>\n",
              "      <td>0</td>\n",
              "      <td>UDP</td>\n",
              "      <td>1</td>\n",
              "      <td>4266</td>\n",
              "      <td>143970278</td>\n",
              "      <td>0</td>\n",
              "      <td>0.0</td>\n",
              "      <td>0.0</td>\n",
              "      <td>1.0</td>\n",
              "      <td>Malicious</td>\n",
              "    </tr>\n",
              "  </tbody>\n",
              "</table>\n",
              "<p>1900 rows × 24 columns</p>\n",
              "</div>\n",
              "    <div class=\"colab-df-buttons\">\n",
              "\n",
              "  <div class=\"colab-df-container\">\n",
              "    <button class=\"colab-df-convert\" onclick=\"convertToInteractive('df-6b5a96b8-b424-4544-882b-9714a7a4230b')\"\n",
              "            title=\"Convert this dataframe to an interactive table.\"\n",
              "            style=\"display:none;\">\n",
              "\n",
              "  <svg xmlns=\"http://www.w3.org/2000/svg\" height=\"24px\" viewBox=\"0 -960 960 960\">\n",
              "    <path d=\"M120-120v-720h720v720H120Zm60-500h600v-160H180v160Zm220 220h160v-160H400v160Zm0 220h160v-160H400v160ZM180-400h160v-160H180v160Zm440 0h160v-160H620v160ZM180-180h160v-160H180v160Zm440 0h160v-160H620v160Z\"/>\n",
              "  </svg>\n",
              "    </button>\n",
              "\n",
              "  <style>\n",
              "    .colab-df-container {\n",
              "      display:flex;\n",
              "      gap: 12px;\n",
              "    }\n",
              "\n",
              "    .colab-df-convert {\n",
              "      background-color: #E8F0FE;\n",
              "      border: none;\n",
              "      border-radius: 50%;\n",
              "      cursor: pointer;\n",
              "      display: none;\n",
              "      fill: #1967D2;\n",
              "      height: 32px;\n",
              "      padding: 0 0 0 0;\n",
              "      width: 32px;\n",
              "    }\n",
              "\n",
              "    .colab-df-convert:hover {\n",
              "      background-color: #E2EBFA;\n",
              "      box-shadow: 0px 1px 2px rgba(60, 64, 67, 0.3), 0px 1px 3px 1px rgba(60, 64, 67, 0.15);\n",
              "      fill: #174EA6;\n",
              "    }\n",
              "\n",
              "    .colab-df-buttons div {\n",
              "      margin-bottom: 4px;\n",
              "    }\n",
              "\n",
              "    [theme=dark] .colab-df-convert {\n",
              "      background-color: #3B4455;\n",
              "      fill: #D2E3FC;\n",
              "    }\n",
              "\n",
              "    [theme=dark] .colab-df-convert:hover {\n",
              "      background-color: #434B5C;\n",
              "      box-shadow: 0px 1px 3px 1px rgba(0, 0, 0, 0.15);\n",
              "      filter: drop-shadow(0px 1px 2px rgba(0, 0, 0, 0.3));\n",
              "      fill: #FFFFFF;\n",
              "    }\n",
              "  </style>\n",
              "\n",
              "    <script>\n",
              "      const buttonEl =\n",
              "        document.querySelector('#df-6b5a96b8-b424-4544-882b-9714a7a4230b button.colab-df-convert');\n",
              "      buttonEl.style.display =\n",
              "        google.colab.kernel.accessAllowed ? 'block' : 'none';\n",
              "\n",
              "      async function convertToInteractive(key) {\n",
              "        const element = document.querySelector('#df-6b5a96b8-b424-4544-882b-9714a7a4230b');\n",
              "        const dataTable =\n",
              "          await google.colab.kernel.invokeFunction('convertToInteractive',\n",
              "                                                    [key], {});\n",
              "        if (!dataTable) return;\n",
              "\n",
              "        const docLinkHtml = 'Like what you see? Visit the ' +\n",
              "          '<a target=\"_blank\" href=https://colab.research.google.com/notebooks/data_table.ipynb>data table notebook</a>'\n",
              "          + ' to learn more about interactive tables.';\n",
              "        element.innerHTML = '';\n",
              "        dataTable['output_type'] = 'display_data';\n",
              "        await google.colab.output.renderOutput(dataTable, element);\n",
              "        const docLink = document.createElement('div');\n",
              "        docLink.innerHTML = docLinkHtml;\n",
              "        element.appendChild(docLink);\n",
              "      }\n",
              "    </script>\n",
              "  </div>\n",
              "\n",
              "\n",
              "<div id=\"df-76b61f99-cf70-4879-9d95-0e8d4e8cb42f\">\n",
              "  <button class=\"colab-df-quickchart\" onclick=\"quickchart('df-76b61f99-cf70-4879-9d95-0e8d4e8cb42f')\"\n",
              "            title=\"Suggest charts.\"\n",
              "            style=\"display:none;\">\n",
              "\n",
              "<svg xmlns=\"http://www.w3.org/2000/svg\" height=\"24px\"viewBox=\"0 0 24 24\"\n",
              "     width=\"24px\">\n",
              "    <g>\n",
              "        <path d=\"M19 3H5c-1.1 0-2 .9-2 2v14c0 1.1.9 2 2 2h14c1.1 0 2-.9 2-2V5c0-1.1-.9-2-2-2zM9 17H7v-7h2v7zm4 0h-2V7h2v10zm4 0h-2v-4h2v4z\"/>\n",
              "    </g>\n",
              "</svg>\n",
              "  </button>\n",
              "\n",
              "<style>\n",
              "  .colab-df-quickchart {\n",
              "      --bg-color: #E8F0FE;\n",
              "      --fill-color: #1967D2;\n",
              "      --hover-bg-color: #E2EBFA;\n",
              "      --hover-fill-color: #174EA6;\n",
              "      --disabled-fill-color: #AAA;\n",
              "      --disabled-bg-color: #DDD;\n",
              "  }\n",
              "\n",
              "  [theme=dark] .colab-df-quickchart {\n",
              "      --bg-color: #3B4455;\n",
              "      --fill-color: #D2E3FC;\n",
              "      --hover-bg-color: #434B5C;\n",
              "      --hover-fill-color: #FFFFFF;\n",
              "      --disabled-bg-color: #3B4455;\n",
              "      --disabled-fill-color: #666;\n",
              "  }\n",
              "\n",
              "  .colab-df-quickchart {\n",
              "    background-color: var(--bg-color);\n",
              "    border: none;\n",
              "    border-radius: 50%;\n",
              "    cursor: pointer;\n",
              "    display: none;\n",
              "    fill: var(--fill-color);\n",
              "    height: 32px;\n",
              "    padding: 0;\n",
              "    width: 32px;\n",
              "  }\n",
              "\n",
              "  .colab-df-quickchart:hover {\n",
              "    background-color: var(--hover-bg-color);\n",
              "    box-shadow: 0 1px 2px rgba(60, 64, 67, 0.3), 0 1px 3px 1px rgba(60, 64, 67, 0.15);\n",
              "    fill: var(--button-hover-fill-color);\n",
              "  }\n",
              "\n",
              "  .colab-df-quickchart-complete:disabled,\n",
              "  .colab-df-quickchart-complete:disabled:hover {\n",
              "    background-color: var(--disabled-bg-color);\n",
              "    fill: var(--disabled-fill-color);\n",
              "    box-shadow: none;\n",
              "  }\n",
              "\n",
              "  .colab-df-spinner {\n",
              "    border: 2px solid var(--fill-color);\n",
              "    border-color: transparent;\n",
              "    border-bottom-color: var(--fill-color);\n",
              "    animation:\n",
              "      spin 1s steps(1) infinite;\n",
              "  }\n",
              "\n",
              "  @keyframes spin {\n",
              "    0% {\n",
              "      border-color: transparent;\n",
              "      border-bottom-color: var(--fill-color);\n",
              "      border-left-color: var(--fill-color);\n",
              "    }\n",
              "    20% {\n",
              "      border-color: transparent;\n",
              "      border-left-color: var(--fill-color);\n",
              "      border-top-color: var(--fill-color);\n",
              "    }\n",
              "    30% {\n",
              "      border-color: transparent;\n",
              "      border-left-color: var(--fill-color);\n",
              "      border-top-color: var(--fill-color);\n",
              "      border-right-color: var(--fill-color);\n",
              "    }\n",
              "    40% {\n",
              "      border-color: transparent;\n",
              "      border-right-color: var(--fill-color);\n",
              "      border-top-color: var(--fill-color);\n",
              "    }\n",
              "    60% {\n",
              "      border-color: transparent;\n",
              "      border-right-color: var(--fill-color);\n",
              "    }\n",
              "    80% {\n",
              "      border-color: transparent;\n",
              "      border-right-color: var(--fill-color);\n",
              "      border-bottom-color: var(--fill-color);\n",
              "    }\n",
              "    90% {\n",
              "      border-color: transparent;\n",
              "      border-bottom-color: var(--fill-color);\n",
              "    }\n",
              "  }\n",
              "</style>\n",
              "\n",
              "  <script>\n",
              "    async function quickchart(key) {\n",
              "      const quickchartButtonEl =\n",
              "        document.querySelector('#' + key + ' button');\n",
              "      quickchartButtonEl.disabled = true;  // To prevent multiple clicks.\n",
              "      quickchartButtonEl.classList.add('colab-df-spinner');\n",
              "      try {\n",
              "        const charts = await google.colab.kernel.invokeFunction(\n",
              "            'suggestCharts', [key], {});\n",
              "      } catch (error) {\n",
              "        console.error('Error during call to suggestCharts:', error);\n",
              "      }\n",
              "      quickchartButtonEl.classList.remove('colab-df-spinner');\n",
              "      quickchartButtonEl.classList.add('colab-df-quickchart-complete');\n",
              "    }\n",
              "    (() => {\n",
              "      let quickchartButtonEl =\n",
              "        document.querySelector('#df-76b61f99-cf70-4879-9d95-0e8d4e8cb42f button');\n",
              "      quickchartButtonEl.style.display =\n",
              "        google.colab.kernel.accessAllowed ? 'block' : 'none';\n",
              "    })();\n",
              "  </script>\n",
              "</div>\n",
              "    </div>\n",
              "  </div>\n"
            ]
          },
          "metadata": {},
          "execution_count": 6
        }
      ],
      "source": [
        "y = df['label']\n",
        "\n",
        "df['label'] = df.label.astype(float)\n",
        "clm = list(y)\n",
        "\n",
        "\n",
        "\n",
        "\n",
        "def map_attack(value):\n",
        "\n",
        "  if value['label'] == 1.0:\n",
        "    return 'Malicious'\n",
        "  else:\n",
        "    return 'Benign'\n",
        "\n",
        "df['attack_flag'] = df.apply(lambda value: map_attack(value),axis=1)\n",
        "\n",
        "df.columns\n",
        "\n",
        "numeric_df = df.select_dtypes(include=['int64', 'float64'])\n",
        "object_df = df.select_dtypes(include=['object'])\n",
        "\n",
        "object_df = pd.to_numeric\n",
        "\n",
        "df[100:2000]\n"
      ]
    },
    {
      "cell_type": "code",
      "execution_count": null,
      "metadata": {
        "colab": {
          "base_uri": "https://localhost:8080/",
          "height": 675
        },
        "id": "UdbCJODSgCoP",
        "outputId": "91320b9e-ee8f-491a-b541-1f4d806a4289"
      },
      "outputs": [
        {
          "output_type": "display_data",
          "data": {
            "text/plain": [
              "<Figure size 1300x800 with 1 Axes>"
            ],
            "image/png": "[encoded data removed]"
          },
          "metadata": {}
        }
      ],
      "source": [
        "labels = [\"Maliciuous\",'Benign']\n",
        "sizes = [dict(df.label.value_counts())[0], dict(df.label.value_counts())[1]]\n",
        "plt.figure(figsize = (13,8))\n",
        "plt.pie(sizes, labels=labels, autopct='%1.0f%%',\n",
        "        shadow=True, startangle=90)\n",
        "plt.legend([\"Maliciuous\", \"Benign\"])\n",
        "plt.title('The percentage of Benign and Maliciuos Requests in dataset')\n",
        "plt.show()\n"
      ]
    },
    {
      "cell_type": "code",
      "execution_count": null,
      "metadata": {
        "colab": {
          "base_uri": "https://localhost:8080/",
          "height": 530
        },
        "id": "OFxWRYPCjO20",
        "outputId": "e6d332d4-8818-44d6-da97-6788a3ee28c3"
      },
      "outputs": [
        {
          "output_type": "execute_result",
          "data": {
            "text/plain": [
              "Text(0.5, 1.0, 'Number of all reqests')"
            ]
          },
          "metadata": {},
          "execution_count": 8
        },
        {
          "output_type": "display_data",
          "data": {
            "text/plain": [
              "<Figure size 960x560 with 1 Axes>"
            ],
            "image/png": "[encoded data removed]"
          },
          "metadata": {}
        }
      ],
      "source": [
        "figure(figsize=(12, 7), dpi=80)\n",
        "plt.barh(list(dict(df.src.value_counts()).keys()), dict(df.src.value_counts()).values(), color='green')\n",
        "\n",
        "for idx, val in enumerate(dict(df.src.value_counts()).values()):\n",
        "    plt.text(x = val, y = idx-0.2, s = str(val), color='r', size = 13)\n",
        "\n",
        "plt.xlabel('Number of Requests')\n",
        "plt.ylabel('IP addres of sender')\n",
        "plt.title('Number of all reqests')"
      ]
    },
    {
      "cell_type": "code",
      "execution_count": null,
      "metadata": {
        "id": "4m_EMXVWcu9T",
        "colab": {
          "base_uri": "https://localhost:8080/"
        },
        "outputId": "30ee1f24-5a14-43f3-81df-ae122d2daf33"
      },
      "outputs": [
        {
          "output_type": "execute_result",
          "data": {
            "text/plain": [
              "(103839, 19)"
            ]
          },
          "metadata": {},
          "execution_count": 9
        }
      ],
      "source": [
        "import numpy\n",
        "\n",
        "from sklearn.preprocessing import OrdinalEncoder\n",
        "from sklearn.preprocessing import OneHotEncoder\n",
        "\n",
        "# encoder = OrdinalEncoder()\n",
        "\n",
        "feature_type = ['dt', 'switch', 'pktcount', 'bytecount', 'dur',\n",
        "       'dur_nsec', 'tot_dur', 'flows', 'packetins', 'pktperflow',\n",
        "       'byteperflow', 'pktrate', 'Pairflow',  'port_no', 'tx_bytes',\n",
        "       'rx_bytes', 'tx_kbps', 'rx_kbps', 'tot_kbps']\n",
        "\n",
        "labels =['label','src','dst','Protocol']\n",
        "\n",
        "# creating instance of one-hot-encoder\n",
        "enc = OrdinalEncoder()\n",
        "# # passing bridge-types-cat column (label encoded values of bridge_types)\n",
        "enc_df = pd.DataFrame(enc.fit_transform(df[feature_type]))\n",
        "enc_df1 = pd.DataFrame(enc.fit_transform(df[labels]))\n",
        "\n",
        "# # merge with main df bridge_df on key values\n",
        "# df = df.join(enc_df[18])\n",
        "# df = df.join(enc_df1[3])\n",
        "\n",
        "df.head\n",
        "# X = df.drop(df['label'])\n",
        "# Y = df['label']\n",
        "Y = df[labels]\n",
        "# X = df[feature_type]\n",
        "# Y = np.arange(-1,1)\n",
        "\n",
        "X_train, X_test, y_train, y_test = train_test_split(enc_df, enc_df1[3], random_state=42, test_size=0.25)\n",
        "# y_test[0:50]\n",
        "enc_df.shape\n",
        "# enc_df1.shape"
      ]
    },
    {
      "cell_type": "code",
      "source": [
        "enc_df.shape"
      ],
      "metadata": {
        "id": "dCdKKVr2O6CJ",
        "colab": {
          "base_uri": "https://localhost:8080/"
        },
        "outputId": "52af5762-0f93-4804-9762-6510ed8dfb98"
      },
      "execution_count": null,
      "outputs": [
        {
          "output_type": "execute_result",
          "data": {
            "text/plain": [
              "(103839, 19)"
            ]
          },
          "metadata": {},
          "execution_count": 10
        }
      ]
    },
    {
      "cell_type": "code",
      "execution_count": null,
      "metadata": {
        "id": "3mUPWZqeOXM7",
        "colab": {
          "base_uri": "https://localhost:8080/"
        },
        "outputId": "1c076439-9f55-4b1c-b276-9f02609a5e61"
      },
      "outputs": [
        {
          "output_type": "stream",
          "name": "stdout",
          "text": [
            "92.14175654853621\n"
          ]
        }
      ],
      "source": [
        "from sklearn import linear_model\n",
        "# model = linear_model.Lasso(alpha = 0.1)\n",
        "# model.fit(X_train,y_train)\n",
        "\n",
        "classifier = RandomForestClassifier(max_depth=2, n_estimators=30,\n",
        "    min_samples_split=3, max_leaf_nodes=5,\n",
        "    random_state=22).fit(X_train,y_train)\n",
        "\n",
        "\n",
        "\n",
        "predicter = classifier.predict(X_test)\n",
        "\n",
        "from sklearn.metrics import confusion_matrix\n",
        "# score = confusion_matrix(y_test,predicter)\n",
        "rf_score = accuracy_score(predicter,y_test)\n",
        "print(rf_score*100)\n"
      ]
    },
    {
      "cell_type": "code",
      "execution_count": null,
      "metadata": {
        "id": "NopcU21-_ieK",
        "colab": {
          "base_uri": "https://localhost:8080/"
        },
        "outputId": "9bc14a74-bdf7-47e6-fd4a-9582d875edf5"
      },
      "outputs": [
        {
          "output_type": "stream",
          "name": "stdout",
          "text": [
            "92.41644088907151\n"
          ]
        }
      ],
      "source": [
        "print(classifier.score(X_train,y_train) * 100)"
      ]
    },
    {
      "cell_type": "markdown",
      "source": [
        "Blending"
      ],
      "metadata": {
        "id": "a-9HcO9QMhY-"
      }
    },
    {
      "cell_type": "code",
      "source": [
        "# train__x, val_x, train_y, val_y,=train_test_split(x_train,y_train, strartify=y_train, test_size=0.2, random_state=0 )"
      ],
      "metadata": {
        "id": "0lJIvnahMf_N"
      },
      "execution_count": null,
      "outputs": []
    },
    {
      "cell_type": "code",
      "source": [
        "from sklearn import svm\n",
        "classifier1=SVC(kernel='sigmoid', gamma='auto')\n",
        "classifier1.fit (X_train[0:5000], y_train[0:5000])\n",
        "pred = classifier1.predict(X_test)\n",
        "svm_score = accuracy_score(pred,y_test)\n",
        "print(svm_score * 100)"
      ],
      "metadata": {
        "id": "MT4T9GaIGwc-",
        "colab": {
          "base_uri": "https://localhost:8080/"
        },
        "outputId": "a51ea8a3-34f3-49c5-f660-27d25aad7cea"
      },
      "execution_count": null,
      "outputs": [
        {
          "output_type": "stream",
          "name": "stdout",
          "text": [
            "39.314329738058554\n"
          ]
        }
      ]
    },
    {
      "cell_type": "code",
      "source": [
        " from sklearn.neighbors import KNeighborsClassifier\n",
        " classifier2=KNeighborsClassifier(n_neighbors=5)\n",
        " classifier2.fit (X_train, y_train)\n",
        " pred = classifier2.predict(X_test)\n",
        " knn_score = accuracy_score(pred,y_test)\n",
        " print(knn_score * 100)"
      ],
      "metadata": {
        "id": "eOYGr4GXK-WL",
        "colab": {
          "base_uri": "https://localhost:8080/"
        },
        "outputId": "d845190a-b80a-41ed-e43b-fc7ee5a71459"
      },
      "execution_count": null,
      "outputs": [
        {
          "output_type": "stream",
          "name": "stdout",
          "text": [
            "99.43759630200309\n"
          ]
        }
      ]
    },
    {
      "cell_type": "code",
      "source": [
        "from sklearn.naive_bayes import GaussianNB\n",
        "classifier3=GaussianNB()\n",
        "classifier3.fit (X_train, y_train)\n",
        "pred = classifier3.predict(X_test)\n",
        "nb_score = accuracy_score(pred,y_test)\n",
        "print(nb_score * 100)\n"
      ],
      "metadata": {
        "id": "ZpmsOoFtBN1m",
        "colab": {
          "base_uri": "https://localhost:8080/"
        },
        "outputId": "08426b64-caac-42c5-bfcc-6fb618d36d44"
      },
      "execution_count": null,
      "outputs": [
        {
          "output_type": "stream",
          "name": "stdout",
          "text": [
            "90.96302003081664\n"
          ]
        }
      ]
    },
    {
      "cell_type": "code",
      "source": [
        "X_train = X_train.dropna(axis = 0, how = 'any')\n",
        "y_train = y_train.dropna(axis = 0, how = 'any')\n",
        "train_x,val_x,train_y,val_y = train_test_split(X_train,y_train,stratify = y_train,test_size = 0.25)\n",
        "train_x.shape\n",
        "# val_x.shape"
      ],
      "metadata": {
        "id": "dVFQUC1hJB43",
        "colab": {
          "base_uri": "https://localhost:8080/"
        },
        "outputId": "9f35a62b-d773-46f3-ca2b-6000969fb7d1"
      },
      "execution_count": null,
      "outputs": [
        {
          "output_type": "execute_result",
          "data": {
            "text/plain": [
              "(58409, 19)"
            ]
          },
          "metadata": {},
          "execution_count": 17
        }
      ]
    },
    {
      "cell_type": "code",
      "source": [
        "model2 = KNeighborsClassifier(n_neighbors = 5)\n",
        "\n",
        "model2.fit(train_x,train_y)\n",
        "y_val_pred2 = model2.predict(val_x)\n",
        "y_val_pred2 = pd.DataFrame(y_val_pred2)\n",
        "y_test_pred2 = model2.predict(X_test)\n",
        "y_test_pred2 = pd.DataFrame(y_test_pred2)"
      ],
      "metadata": {
        "id": "0757rPJGRha1"
      },
      "execution_count": null,
      "outputs": []
    },
    {
      "cell_type": "code",
      "source": [
        "model3 = GaussianNB()\n",
        "model3.fit(train_x,train_y)\n",
        "y_val_pred3 = model3.predict(val_x)\n",
        "y_val_pred3 = pd.DataFrame(y_val_pred3)\n",
        "y_test_pred3 = model3.predict(X_test)\n",
        "y_test_pred3 = pd.DataFrame(y_test_pred3)"
      ],
      "metadata": {
        "id": "YVwKBEXrSFZE"
      },
      "execution_count": null,
      "outputs": []
    },
    {
      "cell_type": "code",
      "source": [
        "columns1 = enc_df.columns\n",
        "val_input = pd.concat([pd.DataFrame(val_x,columns = columns1),y_val_pred2,y_val_pred3,y_val_pred3],axis = 1)\n",
        "test_input = pd.concat([pd.DataFrame(X_test,columns = columns1),y_test_pred2,y_test_pred3,y_test_pred3],axis = 1)\n"
      ],
      "metadata": {
        "id": "IMd8jooTSVdV"
      },
      "execution_count": null,
      "outputs": []
    },
    {
      "cell_type": "code",
      "source": [
        "#print(val_input)\n",
        "columns = enc_df.columns"
      ],
      "metadata": {
        "id": "veKnbBtV1Dns"
      },
      "execution_count": null,
      "outputs": []
    },
    {
      "cell_type": "code",
      "source": [
        "#print(val_y)"
      ],
      "metadata": {
        "id": "1jz-Zv201QIx"
      },
      "execution_count": null,
      "outputs": []
    },
    {
      "cell_type": "code",
      "source": [
        "val_input = val_input.dropna(axis = 0, how = 'any')\n",
        "test_input = test_input.dropna(axis = 0, how = 'any')\n",
        "\n",
        "from sklearn.ensemble import RandomForestClassifier\n",
        "model = RandomForestClassifier(n_estimators = 200)\n",
        "# val_input.values.reshape(748,107)\n",
        "val_y.values.reshape(330,59)\n",
        "model.fit(val_input[0:3608],val_y[0:3608])\n",
        "val_input.shape\n",
        "val_y.shape"
      ],
      "metadata": {
        "id": "8mzIKRI-T0lY",
        "colab": {
          "base_uri": "https://localhost:8080/"
        },
        "outputId": "6dfa6148-fa01-4e12-eb6e-3c391442056b"
      },
      "execution_count": null,
      "outputs": [
        {
          "output_type": "execute_result",
          "data": {
            "text/plain": [
              "(19470,)"
            ]
          },
          "metadata": {},
          "execution_count": 23
        }
      ]
    },
    {
      "cell_type": "code",
      "source": [
        "y_test.values.reshape(440,59)\n",
        "test_input.values.reshape(1613,88)\n",
        "test_input.shape\n",
        "y_test.shape\n",
        "# print(model.score(test_input[0:6452],y_test[0:6452])*100,'%')\n",
        "print(model.score(val_input[0:3608],val_y[0:3608])*100,'%')"
      ],
      "metadata": {
        "id": "j_Zs5jBZT_Yf",
        "colab": {
          "base_uri": "https://localhost:8080/"
        },
        "outputId": "213ff7aa-9789-407a-a45d-fca14dcc7869"
      },
      "execution_count": null,
      "outputs": [
        {
          "output_type": "stream",
          "name": "stdout",
          "text": [
            "99.029933481153 %\n"
          ]
        }
      ]
    },
    {
      "cell_type": "code",
      "source": [
        "hybrid_res = model.score(val_input[0:3608],val_y[0:3608])\n",
        "final_res= {'hybrid':hybrid_res*100, 'svm':svm_score*100,'rf':rf_score*100,'nb':nb_score*100}\n",
        "k = ['hybrid','svm','rf','knn','nb']\n",
        "import seaborn as sns\n",
        "\n",
        "courses = list(final_res.keys())\n",
        "values = list(final_res.values())\n",
        "# courses.append(values)\n",
        "# final_res.sort()\n",
        "\n",
        "# res = pd.DataFrame(final_res)\n",
        "\n",
        "plt.figure(figsize=(10,6))\n",
        "sns.barplot(x=courses, y=values, palette='OrRd')"
      ],
      "metadata": {
        "id": "uzeky88wegqc",
        "colab": {
          "base_uri": "https://localhost:8080/",
          "height": 539
        },
        "outputId": "e28faa0e-05b4-423c-b70c-314ea9a69eec"
      },
      "execution_count": null,
      "outputs": [
        {
          "output_type": "execute_result",
          "data": {
            "text/plain": [
              "<Axes: >"
            ]
          },
          "metadata": {},
          "execution_count": 25
        },
        {
          "output_type": "display_data",
          "data": {
            "text/plain": [
              "<Figure size 1000x600 with 1 Axes>"
            ],
            "image/png": "[encoded data removed]"
          },
          "metadata": {}
        }
      ]
    }
  ],
  "metadata": {
    "colab": {
      "provenance": []
    },
    "kernelspec": {
      "display_name": "Python 3",
      "language": "python",
      "name": "python3"
    },
    "language_info": {
      "codemirror_mode": {
        "name": "ipython",
        "version": 3
      },
      "file_extension": ".py",
      "mimetype": "text/x-python",
      "name": "python",
      "nbconvert_exporter": "python",
      "pygments_lexer": "ipython3",
      "version": "3.7.6"
    }
  },
  "nbformat": 4,
  "nbformat_minor": 0
}